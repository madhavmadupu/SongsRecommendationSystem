{
 "cells": [
  {
   "cell_type": "code",
   "execution_count": 1,
   "metadata": {},
   "outputs": [
    {
     "name": "stdout",
     "output_type": "stream",
     "text": [
      "Recommendations for 'LALA':\n",
      "853                      Nos Comemos (feat. Ozuna)\n",
      "196                                  Es un Secreto\n",
      "525                One Right Now (with The Weeknd)\n",
      "361    I Like You (A Happier Song) (with Doja Cat)\n",
      "375                                    Besos Moja2\n",
      "Name: track_name, dtype: object\n"
     ]
    }
   ],
   "source": [
    "import pandas as pd\n",
    "from sklearn.metrics.pairwise import cosine_similarity\n",
    "from sklearn.preprocessing import StandardScaler, LabelEncoder\n",
    "\n",
    "df = pd.read_csv('./spotify-2023.csv', encoding='iso-8859-1')\n",
    "\n",
    "numerical_columns = ['bpm', 'danceability_%', 'valence_%', 'energy_%',\n",
    "                     'acousticness_%', 'instrumentalness_%', 'liveness_%', 'speechiness_%']\n",
    "\n",
    "df[numerical_columns] = df[numerical_columns].fillna(df[numerical_columns].mean())\n",
    "\n",
    "label_encoder = LabelEncoder()\n",
    "df['track_name_encoded'] = label_encoder.fit_transform(df['track_name'])\n",
    "df['artist_name_encoded'] = label_encoder.fit_transform(df['artist(s)_name'])\n",
    "\n",
    "columns_for_similarity = numerical_columns + ['track_name_encoded', 'artist_name_encoded']\n",
    "\n",
    "scaler = StandardScaler()\n",
    "df[columns_for_similarity] = scaler.fit_transform(df[columns_for_similarity])\n",
    "\n",
    "cosine_sim = cosine_similarity(df[columns_for_similarity])\n",
    "\n",
    "def get_song_recommendations(song_index, similarity_matrix, num_recommendations=5):\n",
    "    sim_scores = list(enumerate(similarity_matrix[song_index]))\n",
    "    sim_scores = sorted(sim_scores, key=lambda x: x[1], reverse=True)\n",
    "    top_similar_song_indices = [x[0] for x in sim_scores[1:num_recommendations+1]]\n",
    "    return df.iloc[top_similar_song_indices]['track_name']\n",
    "\n",
    "song_index = 1\n",
    "recommendations = get_song_recommendations(song_index, cosine_sim)\n",
    "print(f\"Recommendations for '{df.iloc[song_index]['track_name']}':\")\n",
    "print(recommendations)\n"
   ]
  },
  {
   "cell_type": "code",
   "execution_count": 5,
   "metadata": {},
   "outputs": [
    {
     "name": "stderr",
     "output_type": "stream",
     "text": [
      "2023-12-16 00:35:59.491 \n",
      "  \u001b[33m\u001b[1mWarning:\u001b[0m to view this Streamlit app on a browser, run it with the following\n",
      "  command:\n",
      "\n",
      "    streamlit run c:\\Users\\madhavmadupu\\.conda\\envs\\mlenv\\lib\\site-packages\\ipykernel_launcher.py [ARGUMENTS]\n"
     ]
    }
   ],
   "source": [
    "import pandas as pd\n",
    "import streamlit as st\n",
    "from sklearn.metrics.pairwise import cosine_similarity\n",
    "from sklearn.preprocessing import StandardScaler, LabelEncoder\n",
    "\n",
    "# Load the dataset\n",
    "df = pd.read_csv('./spotify-2023.csv', encoding='iso-8859-1')  # Replace 'your_data.csv' with your file path\n",
    "\n",
    "# Preprocessing steps (similar to the previous code)\n",
    "\n",
    "# Encoding categorical columns: 'track_name' and 'artist(s)_name'\n",
    "label_encoder = LabelEncoder()\n",
    "df['track_name_encoded'] = label_encoder.fit_transform(df['track_name'])\n",
    "df['artist_name_encoded'] = label_encoder.fit_transform(df['artist(s)_name'])\n",
    "\n",
    "columns_for_similarity = [\n",
    "    'bpm', 'danceability_%', 'valence_%', 'energy_%',\n",
    "    'acousticness_%', 'instrumentalness_%', 'liveness_%', 'speechiness_%',\n",
    "    'track_name_encoded', 'artist_name_encoded'\n",
    "]\n",
    "\n",
    "scaler = StandardScaler()\n",
    "df[columns_for_similarity] = scaler.fit_transform(df[columns_for_similarity])\n",
    "\n",
    "cosine_sim = cosine_similarity(df[columns_for_similarity])\n",
    "\n",
    "# Streamlit app\n",
    "st.title('Song Recommender')\n",
    "\n",
    "selected_song = st.sidebar.selectbox('Select a Song', df['track_name'].values)\n",
    "\n",
    "# Get index of selected song\n",
    "song_index = df[df['track_name'] == selected_song].index[0]\n",
    "\n",
    "# Function to get song recommendations based on cosine similarity\n",
    "def get_song_recommendations(song_index, similarity_matrix, num_recommendations=5):\n",
    "    sim_scores = list(enumerate(similarity_matrix[song_index]))\n",
    "    sim_scores = sorted(sim_scores, key=lambda x: x[1], reverse=True)\n",
    "    top_similar_song_indices = [x[0] for x in sim_scores[1:num_recommendations+1]]\n",
    "    return df.iloc[top_similar_song_indices]\n",
    "\n",
    "if st.button('Show Recommendations'):\n",
    "    recommendations = get_song_recommendations(song_index, cosine_sim)\n",
    "    st.write(\"Recommendations for\", selected_song)\n",
    "    st.dataframe(recommendations[['track_name', 'artist(s)_name', 'streams']])\n"
   ]
  },
  {
   "cell_type": "code",
   "execution_count": null,
   "metadata": {},
   "outputs": [],
   "source": []
  }
 ],
 "metadata": {
  "kernelspec": {
   "display_name": "mlenv",
   "language": "python",
   "name": "python3"
  },
  "language_info": {
   "codemirror_mode": {
    "name": "ipython",
    "version": 3
   },
   "file_extension": ".py",
   "mimetype": "text/x-python",
   "name": "python",
   "nbconvert_exporter": "python",
   "pygments_lexer": "ipython3",
   "version": "3.10.13"
  }
 },
 "nbformat": 4,
 "nbformat_minor": 2
}
